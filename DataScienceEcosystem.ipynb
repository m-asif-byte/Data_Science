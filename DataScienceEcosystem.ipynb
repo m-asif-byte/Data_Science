{
 "cells": [
  {
   "cell_type": "markdown",
   "id": "a9d3d8e2-18b5-48a1-b2d8-6db561e8291f",
   "metadata": {},
   "source": [
    "# Data Science Tools and Ecosystem"
   ]
  },
  {
   "cell_type": "markdown",
   "id": "2dd6bf57-cb2b-40ee-bbc4-84252b8438ad",
   "metadata": {},
   "source": [
    "### This notebook will summarize Data Science Tools and Ecosystem"
   ]
  },
  {
   "cell_type": "markdown",
   "id": "b80b80f4-dd3e-4f9e-860e-c95795463205",
   "metadata": {},
   "source": [
    "# **Objectives:**\n",
    "After reading this notebook, you will learn to:\n",
    "* List some of the popular languages for Data Science\n",
    "* List some of the popular libraries for Data Science\n",
    "* Indentify some of the most common used tools for Data Science\n",
    "* Learn about the basic evaluation of arithmetic expressions in python"
   ]
  },
  {
   "cell_type": "markdown",
   "id": "b3562b71-091d-41ce-b15b-8c2b1d9919f4",
   "metadata": {},
   "source": [
    "### Some of the famous languages used by Data Scientists are given below\n",
    "1. Python\n",
    "2. R\n",
    "3. SQL\n",
    "4. Scala\n",
    "5. Java\n",
    "6. C"
   ]
  },
  {
   "cell_type": "markdown",
   "id": "061f0558-d22c-4941-bee3-bb54381c3dba",
   "metadata": {},
   "source": [
    "### Some of the popular libraries used by Data Scientists include:\n",
    "1. Pandas\n",
    "2. Numpy\n",
    "3. Matplotlib\n",
    "4. Seaborn\n",
    "5. Scikit-learn\n",
    "6. C++"
   ]
  },
  {
   "cell_type": "markdown",
   "id": "e0d683c1-0c37-4efe-8c8e-296397c8daf9",
   "metadata": {},
   "source": [
    "|Data Science Tools|\n",
    "|------------------|\n",
    "|Anaconda Navigator|\n",
    "|RStudio           |\n",
    "|Spyder            |"
   ]
  },
  {
   "cell_type": "markdown",
   "id": "3d5d5c0e-38e7-4c31-9569-708a9b499cb8",
   "metadata": {},
   "source": [
    "### Below are examples for evaluation of arithmetic expressions in python:"
   ]
  },
  {
   "cell_type": "code",
   "execution_count": 3,
   "id": "3b3e0005-fd9d-4f8c-863a-e3d5cadae149",
   "metadata": {},
   "outputs": [
    {
     "data": {
      "text/plain": [
       "17"
      ]
     },
     "execution_count": 3,
     "metadata": {},
     "output_type": "execute_result"
    }
   ],
   "source": [
    "# This is simple arithmetic expression to multiply then add integers\n",
    "(3*4)+5"
   ]
  },
  {
   "cell_type": "code",
   "execution_count": 4,
   "id": "9da35f89-77d8-4e40-b1a5-232d135ce44c",
   "metadata": {},
   "outputs": [
    {
     "data": {
      "text/plain": [
       "3.3333333333333335"
      ]
     },
     "execution_count": 4,
     "metadata": {},
     "output_type": "execute_result"
    }
   ],
   "source": [
    "# This will convert 200 minutes to hours by dividing by 60\n",
    "200/60"
   ]
  },
  {
   "cell_type": "markdown",
   "id": "5ebb63ae-329b-47d3-a7f3-77c21259ccfc",
   "metadata": {},
   "source": [
    "## Author\n",
    "Muhammad Asif"
   ]
  },
  {
   "cell_type": "code",
   "execution_count": null,
   "id": "9e88f8ed-fd4e-4e1a-a556-6cda9f042458",
   "metadata": {},
   "outputs": [],
   "source": []
  }
 ],
 "metadata": {
  "kernelspec": {
   "display_name": "Python 3 (ipykernel)",
   "language": "python",
   "name": "python3"
  },
  "language_info": {
   "codemirror_mode": {
    "name": "ipython",
    "version": 3
   },
   "file_extension": ".py",
   "mimetype": "text/x-python",
   "name": "python",
   "nbconvert_exporter": "python",
   "pygments_lexer": "ipython3",
   "version": "3.12.7"
  }
 },
 "nbformat": 4,
 "nbformat_minor": 5
}
